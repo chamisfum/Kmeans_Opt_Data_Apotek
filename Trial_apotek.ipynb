{
  "nbformat": 4,
  "nbformat_minor": 0,
  "metadata": {
    "colab": {
      "name": "Trial_apotek.ipynb",
      "provenance": [],
      "collapsed_sections": [],
      "mount_file_id": "1_R5sz-cY_biV2rLmTAHPr6MFpwBboZvO",
      "authorship_tag": "ABX9TyOw/UTQhF43HvQbpNW3Ssdd",
      "include_colab_link": true
    },
    "kernelspec": {
      "name": "python3",
      "display_name": "Python 3"
    }
  },
  "cells": [
    {
      "cell_type": "markdown",
      "metadata": {
        "id": "view-in-github",
        "colab_type": "text"
      },
      "source": [
        "<a href=\"https://colab.research.google.com/github/chamisfum/Kmeans_Opt_Data_Apotek/blob/master/Trial_apotek.ipynb\" target=\"_parent\"><img src=\"https://colab.research.google.com/assets/colab-badge.svg\" alt=\"Open In Colab\"/></a>"
      ]
    },
    {
      "cell_type": "code",
      "metadata": {
        "id": "3jhemdUdRggt",
        "colab_type": "code",
        "colab": {}
      },
      "source": [
        "import pandas as pd\n",
        "import numpy as np\n",
        "import random as rd\n",
        "import matplotlib.pyplot as plt \n",
        "%matplotlib inline\n",
        "import seaborn as sns\n",
        "\n",
        "from sklearn.cluster import KMeans\n",
        "from sklearn import preprocessing\n",
        "from sklearn.preprocessing import LabelEncoder, MinMaxScaler\n",
        "from sklearn.preprocessing import StandardScaler, normalize\n",
        "from sklearn.decomposition import PCA\n",
        "from sklearn.metrics import silhouette_score"
      ],
      "execution_count": 23,
      "outputs": []
    },
    {
      "cell_type": "code",
      "metadata": {
        "id": "COJrfqokSCPy",
        "colab_type": "code",
        "colab": {
          "base_uri": "https://localhost:8080/",
          "height": 588
        },
        "outputId": "77f827b2-7409-4546-b6c4-5082ac1a13db"
      },
      "source": [
        "path = \"/content/drive/My Drive/RESEARCH CENTER/THESIS RESEARCH/Apotek_Vinsia/\"\n",
        "data = pd.read_csv(path+'data_apotek.csv')\n",
        "data"
      ],
      "execution_count": 24,
      "outputs": [
        {
          "output_type": "execute_result",
          "data": {
            "text/html": [
              "<div>\n",
              "<style scoped>\n",
              "    .dataframe tbody tr th:only-of-type {\n",
              "        vertical-align: middle;\n",
              "    }\n",
              "\n",
              "    .dataframe tbody tr th {\n",
              "        vertical-align: top;\n",
              "    }\n",
              "\n",
              "    .dataframe thead th {\n",
              "        text-align: right;\n",
              "    }\n",
              "</style>\n",
              "<table border=\"1\" class=\"dataframe\">\n",
              "  <thead>\n",
              "    <tr style=\"text-align: right;\">\n",
              "      <th></th>\n",
              "      <th>No</th>\n",
              "      <th>Nama</th>\n",
              "      <th>Harga</th>\n",
              "      <th>Stok</th>\n",
              "      <th>Jan</th>\n",
              "      <th>Feb</th>\n",
              "      <th>Mar</th>\n",
              "      <th>Aprl</th>\n",
              "      <th>Mei</th>\n",
              "      <th>Juni</th>\n",
              "      <th>Juli</th>\n",
              "      <th>Agst</th>\n",
              "      <th>Sep</th>\n",
              "      <th>Okt</th>\n",
              "      <th>Nov</th>\n",
              "      <th>Des</th>\n",
              "    </tr>\n",
              "  </thead>\n",
              "  <tbody>\n",
              "    <tr>\n",
              "      <th>0</th>\n",
              "      <td>1</td>\n",
              "      <td>Mefinal</td>\n",
              "      <td>Rp. 20.000,-/</td>\n",
              "      <td>210</td>\n",
              "      <td>2</td>\n",
              "      <td>13</td>\n",
              "      <td>17</td>\n",
              "      <td>20</td>\n",
              "      <td>15</td>\n",
              "      <td>21</td>\n",
              "      <td>18</td>\n",
              "      <td>21</td>\n",
              "      <td>15</td>\n",
              "      <td>11</td>\n",
              "      <td>12</td>\n",
              "      <td>17</td>\n",
              "    </tr>\n",
              "    <tr>\n",
              "      <th>1</th>\n",
              "      <td>2</td>\n",
              "      <td>Sanmol</td>\n",
              "      <td>Rp. 15.000,-/</td>\n",
              "      <td>200</td>\n",
              "      <td>7</td>\n",
              "      <td>11</td>\n",
              "      <td>13</td>\n",
              "      <td>10</td>\n",
              "      <td>15</td>\n",
              "      <td>14</td>\n",
              "      <td>8</td>\n",
              "      <td>11</td>\n",
              "      <td>18</td>\n",
              "      <td>20</td>\n",
              "      <td>17</td>\n",
              "      <td>12</td>\n",
              "    </tr>\n",
              "    <tr>\n",
              "      <th>2</th>\n",
              "      <td>3</td>\n",
              "      <td>Hufagrip</td>\n",
              "      <td>Rp 18.000,-/</td>\n",
              "      <td>150</td>\n",
              "      <td>2</td>\n",
              "      <td>8</td>\n",
              "      <td>6</td>\n",
              "      <td>10</td>\n",
              "      <td>12</td>\n",
              "      <td>15</td>\n",
              "      <td>12</td>\n",
              "      <td>11</td>\n",
              "      <td>13</td>\n",
              "      <td>18</td>\n",
              "      <td>13</td>\n",
              "      <td>12</td>\n",
              "    </tr>\n",
              "    <tr>\n",
              "      <th>3</th>\n",
              "      <td>4</td>\n",
              "      <td>Neurobion Putih</td>\n",
              "      <td>Rp 19.500,-/</td>\n",
              "      <td>150</td>\n",
              "      <td>1</td>\n",
              "      <td>7</td>\n",
              "      <td>10</td>\n",
              "      <td>15</td>\n",
              "      <td>9</td>\n",
              "      <td>12</td>\n",
              "      <td>7</td>\n",
              "      <td>9</td>\n",
              "      <td>13</td>\n",
              "      <td>11</td>\n",
              "      <td>10</td>\n",
              "      <td>10</td>\n",
              "    </tr>\n",
              "    <tr>\n",
              "      <th>4</th>\n",
              "      <td>5</td>\n",
              "      <td>Lacto-B</td>\n",
              "      <td>Rp 8.000,-/</td>\n",
              "      <td>250</td>\n",
              "      <td>4</td>\n",
              "      <td>23</td>\n",
              "      <td>26</td>\n",
              "      <td>20</td>\n",
              "      <td>22</td>\n",
              "      <td>28</td>\n",
              "      <td>22</td>\n",
              "      <td>20</td>\n",
              "      <td>19</td>\n",
              "      <td>15</td>\n",
              "      <td>23</td>\n",
              "      <td>21</td>\n",
              "    </tr>\n",
              "    <tr>\n",
              "      <th>...</th>\n",
              "      <td>...</td>\n",
              "      <td>...</td>\n",
              "      <td>...</td>\n",
              "      <td>...</td>\n",
              "      <td>...</td>\n",
              "      <td>...</td>\n",
              "      <td>...</td>\n",
              "      <td>...</td>\n",
              "      <td>...</td>\n",
              "      <td>...</td>\n",
              "      <td>...</td>\n",
              "      <td>...</td>\n",
              "      <td>...</td>\n",
              "      <td>...</td>\n",
              "      <td>...</td>\n",
              "      <td>...</td>\n",
              "    </tr>\n",
              "    <tr>\n",
              "      <th>156</th>\n",
              "      <td>158</td>\n",
              "      <td>Allopurinol 300mg</td>\n",
              "      <td>Rp     5.500,-/</td>\n",
              "      <td>200</td>\n",
              "      <td>12</td>\n",
              "      <td>10</td>\n",
              "      <td>9</td>\n",
              "      <td>11</td>\n",
              "      <td>10</td>\n",
              "      <td>10</td>\n",
              "      <td>9</td>\n",
              "      <td>8</td>\n",
              "      <td>5</td>\n",
              "      <td>8</td>\n",
              "      <td>8</td>\n",
              "      <td>6</td>\n",
              "    </tr>\n",
              "    <tr>\n",
              "      <th>157</th>\n",
              "      <td>159</td>\n",
              "      <td>Lodia</td>\n",
              "      <td>Rp   13.500,-/</td>\n",
              "      <td>150</td>\n",
              "      <td>1</td>\n",
              "      <td>9</td>\n",
              "      <td>10</td>\n",
              "      <td>11</td>\n",
              "      <td>9</td>\n",
              "      <td>10</td>\n",
              "      <td>9</td>\n",
              "      <td>9</td>\n",
              "      <td>8</td>\n",
              "      <td>5</td>\n",
              "      <td>2</td>\n",
              "      <td>2</td>\n",
              "    </tr>\n",
              "    <tr>\n",
              "      <th>158</th>\n",
              "      <td>160</td>\n",
              "      <td>Actifed</td>\n",
              "      <td>Rp   54.000,-/</td>\n",
              "      <td>80</td>\n",
              "      <td>8</td>\n",
              "      <td>10</td>\n",
              "      <td>11</td>\n",
              "      <td>13</td>\n",
              "      <td>15</td>\n",
              "      <td>15</td>\n",
              "      <td>16</td>\n",
              "      <td>17</td>\n",
              "      <td>15</td>\n",
              "      <td>15</td>\n",
              "      <td>16</td>\n",
              "      <td>15</td>\n",
              "    </tr>\n",
              "    <tr>\n",
              "      <th>159</th>\n",
              "      <td>161</td>\n",
              "      <td>Bedak Herocy</td>\n",
              "      <td>Rp   17.000,-/</td>\n",
              "      <td>100</td>\n",
              "      <td>12</td>\n",
              "      <td>10</td>\n",
              "      <td>12</td>\n",
              "      <td>11</td>\n",
              "      <td>10</td>\n",
              "      <td>10</td>\n",
              "      <td>9</td>\n",
              "      <td>8</td>\n",
              "      <td>6</td>\n",
              "      <td>8</td>\n",
              "      <td>9</td>\n",
              "      <td>9</td>\n",
              "    </tr>\n",
              "    <tr>\n",
              "      <th>160</th>\n",
              "      <td>162</td>\n",
              "      <td>Parasol</td>\n",
              "      <td>Rp   44.500,-/</td>\n",
              "      <td>100</td>\n",
              "      <td>5</td>\n",
              "      <td>5</td>\n",
              "      <td>9</td>\n",
              "      <td>5</td>\n",
              "      <td>7</td>\n",
              "      <td>8</td>\n",
              "      <td>10</td>\n",
              "      <td>12</td>\n",
              "      <td>11</td>\n",
              "      <td>10</td>\n",
              "      <td>10</td>\n",
              "      <td>11</td>\n",
              "    </tr>\n",
              "  </tbody>\n",
              "</table>\n",
              "<p>161 rows × 16 columns</p>\n",
              "</div>"
            ],
            "text/plain": [
              "      No               Nama            Harga  Stok  ...  Sep  Okt  Nov  Des\n",
              "0      1            Mefinal    Rp. 20.000,-/   210  ...   15   11   12   17\n",
              "1      2            Sanmol     Rp. 15.000,-/   200  ...   18   20   17   12\n",
              "2      3           Hufagrip     Rp 18.000,-/   150  ...   13   18   13   12\n",
              "3      4    Neurobion Putih     Rp 19.500,-/   150  ...   13   11   10   10\n",
              "4      5            Lacto-B      Rp 8.000,-/   250  ...   19   15   23   21\n",
              "..   ...                ...              ...   ...  ...  ...  ...  ...  ...\n",
              "156  158  Allopurinol 300mg  Rp     5.500,-/   200  ...    5    8    8    6\n",
              "157  159             Lodia    Rp   13.500,-/   150  ...    8    5    2    2\n",
              "158  160            Actifed   Rp   54.000,-/    80  ...   15   15   16   15\n",
              "159  161       Bedak Herocy   Rp   17.000,-/   100  ...    6    8    9    9\n",
              "160  162            Parasol   Rp   44.500,-/   100  ...   11   10   10   11\n",
              "\n",
              "[161 rows x 16 columns]"
            ]
          },
          "metadata": {
            "tags": []
          },
          "execution_count": 24
        }
      ]
    },
    {
      "cell_type": "code",
      "metadata": {
        "id": "0VhwsCwryJl6",
        "colab_type": "code",
        "colab": {}
      },
      "source": [
        "data = data.sort_values(by=['Nama'], ascending=True)"
      ],
      "execution_count": 25,
      "outputs": []
    },
    {
      "cell_type": "code",
      "metadata": {
        "id": "shChsv2kTncw",
        "colab_type": "code",
        "colab": {}
      },
      "source": [
        "data = data.drop(['No'], axis=1)\n",
        "df = data.apply(lambda row : (row[1].split(\",\")[0].replace(\" \",\"\")), axis=1)\n",
        "data[\"Harga\"] = df.apply(lambda row: row.split(\"p\")[1].replace(\".\",\"\"))\n",
        "data[\"Total_Sales\"] = data.loc[:, 'Jan':'Des'].sum(1)\n",
        "data[list(data.columns[1:])] = data[list(data.columns[1:])].apply(pd.to_numeric) "
      ],
      "execution_count": 26,
      "outputs": []
    },
    {
      "cell_type": "code",
      "metadata": {
        "id": "DDeh6pklxHDI",
        "colab_type": "code",
        "colab": {}
      },
      "source": [
        "data[\"Mean_Sales\"] = data.loc[:, 'Jan':'Des'].mean(1)"
      ],
      "execution_count": 27,
      "outputs": []
    },
    {
      "cell_type": "code",
      "metadata": {
        "id": "quJKOIzbSO28",
        "colab_type": "code",
        "colab": {
          "base_uri": "https://localhost:8080/",
          "height": 337
        },
        "outputId": "740bc063-a268-4fba-c85f-1e92f289cf19"
      },
      "source": [
        "data.dtypes"
      ],
      "execution_count": 28,
      "outputs": [
        {
          "output_type": "execute_result",
          "data": {
            "text/plain": [
              "Nama            object\n",
              "Harga            int64\n",
              "Stok             int64\n",
              "Jan              int64\n",
              "Feb              int64\n",
              "Mar              int64\n",
              "Aprl             int64\n",
              "Mei              int64\n",
              "Juni             int64\n",
              "Juli             int64\n",
              "Agst             int64\n",
              "Sep              int64\n",
              "Okt              int64\n",
              "Nov              int64\n",
              "Des              int64\n",
              "Total_Sales      int64\n",
              "Mean_Sales     float64\n",
              "dtype: object"
            ]
          },
          "metadata": {
            "tags": []
          },
          "execution_count": 28
        }
      ]
    },
    {
      "cell_type": "code",
      "metadata": {
        "id": "P7Lq-uk1b0_3",
        "colab_type": "code",
        "colab": {
          "base_uri": "https://localhost:8080/",
          "height": 214
        },
        "outputId": "8c1af22a-e6be-4527-fe7a-285c13c9af8b"
      },
      "source": [
        "data.head()"
      ],
      "execution_count": 29,
      "outputs": [
        {
          "output_type": "execute_result",
          "data": {
            "text/html": [
              "<div>\n",
              "<style scoped>\n",
              "    .dataframe tbody tr th:only-of-type {\n",
              "        vertical-align: middle;\n",
              "    }\n",
              "\n",
              "    .dataframe tbody tr th {\n",
              "        vertical-align: top;\n",
              "    }\n",
              "\n",
              "    .dataframe thead th {\n",
              "        text-align: right;\n",
              "    }\n",
              "</style>\n",
              "<table border=\"1\" class=\"dataframe\">\n",
              "  <thead>\n",
              "    <tr style=\"text-align: right;\">\n",
              "      <th></th>\n",
              "      <th>Nama</th>\n",
              "      <th>Harga</th>\n",
              "      <th>Stok</th>\n",
              "      <th>Jan</th>\n",
              "      <th>Feb</th>\n",
              "      <th>Mar</th>\n",
              "      <th>Aprl</th>\n",
              "      <th>Mei</th>\n",
              "      <th>Juni</th>\n",
              "      <th>Juli</th>\n",
              "      <th>Agst</th>\n",
              "      <th>Sep</th>\n",
              "      <th>Okt</th>\n",
              "      <th>Nov</th>\n",
              "      <th>Des</th>\n",
              "      <th>Total_Sales</th>\n",
              "      <th>Mean_Sales</th>\n",
              "    </tr>\n",
              "  </thead>\n",
              "  <tbody>\n",
              "    <tr>\n",
              "      <th>45</th>\n",
              "      <td>Siladex</td>\n",
              "      <td>12000</td>\n",
              "      <td>150</td>\n",
              "      <td>1</td>\n",
              "      <td>13</td>\n",
              "      <td>10</td>\n",
              "      <td>11</td>\n",
              "      <td>11</td>\n",
              "      <td>9</td>\n",
              "      <td>10</td>\n",
              "      <td>8</td>\n",
              "      <td>9</td>\n",
              "      <td>10</td>\n",
              "      <td>8</td>\n",
              "      <td>10</td>\n",
              "      <td>110</td>\n",
              "      <td>9.166667</td>\n",
              "    </tr>\n",
              "    <tr>\n",
              "      <th>40</th>\n",
              "      <td>Acnol</td>\n",
              "      <td>14000</td>\n",
              "      <td>100</td>\n",
              "      <td>10</td>\n",
              "      <td>15</td>\n",
              "      <td>15</td>\n",
              "      <td>18</td>\n",
              "      <td>17</td>\n",
              "      <td>10</td>\n",
              "      <td>7</td>\n",
              "      <td>9</td>\n",
              "      <td>11</td>\n",
              "      <td>12</td>\n",
              "      <td>8</td>\n",
              "      <td>9</td>\n",
              "      <td>141</td>\n",
              "      <td>11.750000</td>\n",
              "    </tr>\n",
              "    <tr>\n",
              "      <th>117</th>\n",
              "      <td>Acnolution</td>\n",
              "      <td>14000</td>\n",
              "      <td>100</td>\n",
              "      <td>7</td>\n",
              "      <td>10</td>\n",
              "      <td>9</td>\n",
              "      <td>6</td>\n",
              "      <td>9</td>\n",
              "      <td>7</td>\n",
              "      <td>10</td>\n",
              "      <td>11</td>\n",
              "      <td>10</td>\n",
              "      <td>13</td>\n",
              "      <td>11</td>\n",
              "      <td>12</td>\n",
              "      <td>115</td>\n",
              "      <td>9.583333</td>\n",
              "    </tr>\n",
              "    <tr>\n",
              "      <th>158</th>\n",
              "      <td>Actifed</td>\n",
              "      <td>54000</td>\n",
              "      <td>80</td>\n",
              "      <td>8</td>\n",
              "      <td>10</td>\n",
              "      <td>11</td>\n",
              "      <td>13</td>\n",
              "      <td>15</td>\n",
              "      <td>15</td>\n",
              "      <td>16</td>\n",
              "      <td>17</td>\n",
              "      <td>15</td>\n",
              "      <td>15</td>\n",
              "      <td>16</td>\n",
              "      <td>15</td>\n",
              "      <td>166</td>\n",
              "      <td>13.833333</td>\n",
              "    </tr>\n",
              "    <tr>\n",
              "      <th>96</th>\n",
              "      <td>Acy Clopil</td>\n",
              "      <td>7500</td>\n",
              "      <td>100</td>\n",
              "      <td>10</td>\n",
              "      <td>13</td>\n",
              "      <td>10</td>\n",
              "      <td>11</td>\n",
              "      <td>10</td>\n",
              "      <td>9</td>\n",
              "      <td>10</td>\n",
              "      <td>8</td>\n",
              "      <td>12</td>\n",
              "      <td>10</td>\n",
              "      <td>7</td>\n",
              "      <td>7</td>\n",
              "      <td>117</td>\n",
              "      <td>9.750000</td>\n",
              "    </tr>\n",
              "  </tbody>\n",
              "</table>\n",
              "</div>"
            ],
            "text/plain": [
              "           Nama  Harga  Stok  Jan  Feb  ...  Okt  Nov  Des  Total_Sales  Mean_Sales\n",
              "45     Siladex   12000   150    1   13  ...   10    8   10          110    9.166667\n",
              "40        Acnol  14000   100   10   15  ...   12    8    9          141   11.750000\n",
              "117  Acnolution  14000   100    7   10  ...   13   11   12          115    9.583333\n",
              "158     Actifed  54000    80    8   10  ...   15   16   15          166   13.833333\n",
              "96   Acy Clopil   7500   100   10   13  ...   10    7    7          117    9.750000\n",
              "\n",
              "[5 rows x 17 columns]"
            ]
          },
          "metadata": {
            "tags": []
          },
          "execution_count": 29
        }
      ]
    },
    {
      "cell_type": "code",
      "metadata": {
        "id": "Q2pFWskxbhAA",
        "colab_type": "code",
        "colab": {
          "base_uri": "https://localhost:8080/",
          "height": 302
        },
        "outputId": "44777ac6-561b-4695-d687-4acc7834a2c0"
      },
      "source": [
        "data.describe()"
      ],
      "execution_count": 30,
      "outputs": [
        {
          "output_type": "execute_result",
          "data": {
            "text/html": [
              "<div>\n",
              "<style scoped>\n",
              "    .dataframe tbody tr th:only-of-type {\n",
              "        vertical-align: middle;\n",
              "    }\n",
              "\n",
              "    .dataframe tbody tr th {\n",
              "        vertical-align: top;\n",
              "    }\n",
              "\n",
              "    .dataframe thead th {\n",
              "        text-align: right;\n",
              "    }\n",
              "</style>\n",
              "<table border=\"1\" class=\"dataframe\">\n",
              "  <thead>\n",
              "    <tr style=\"text-align: right;\">\n",
              "      <th></th>\n",
              "      <th>Harga</th>\n",
              "      <th>Stok</th>\n",
              "      <th>Jan</th>\n",
              "      <th>Feb</th>\n",
              "      <th>Mar</th>\n",
              "      <th>Aprl</th>\n",
              "      <th>Mei</th>\n",
              "      <th>Juni</th>\n",
              "      <th>Juli</th>\n",
              "      <th>Agst</th>\n",
              "      <th>Sep</th>\n",
              "      <th>Okt</th>\n",
              "      <th>Nov</th>\n",
              "      <th>Des</th>\n",
              "      <th>Total_Sales</th>\n",
              "      <th>Mean_Sales</th>\n",
              "    </tr>\n",
              "  </thead>\n",
              "  <tbody>\n",
              "    <tr>\n",
              "      <th>count</th>\n",
              "      <td>161.000000</td>\n",
              "      <td>161.000000</td>\n",
              "      <td>161.000000</td>\n",
              "      <td>161.000000</td>\n",
              "      <td>161.000000</td>\n",
              "      <td>161.000000</td>\n",
              "      <td>161.000000</td>\n",
              "      <td>161.000000</td>\n",
              "      <td>161.000000</td>\n",
              "      <td>161.000000</td>\n",
              "      <td>161.000000</td>\n",
              "      <td>161.000000</td>\n",
              "      <td>161.00000</td>\n",
              "      <td>161.000000</td>\n",
              "      <td>161.00000</td>\n",
              "      <td>161.000000</td>\n",
              "    </tr>\n",
              "    <tr>\n",
              "      <th>mean</th>\n",
              "      <td>14394.409938</td>\n",
              "      <td>152.608696</td>\n",
              "      <td>6.565217</td>\n",
              "      <td>9.627329</td>\n",
              "      <td>9.900621</td>\n",
              "      <td>10.900621</td>\n",
              "      <td>10.801242</td>\n",
              "      <td>10.987578</td>\n",
              "      <td>10.254658</td>\n",
              "      <td>10.844720</td>\n",
              "      <td>10.726708</td>\n",
              "      <td>10.403727</td>\n",
              "      <td>10.68323</td>\n",
              "      <td>10.726708</td>\n",
              "      <td>122.42236</td>\n",
              "      <td>10.201863</td>\n",
              "    </tr>\n",
              "    <tr>\n",
              "      <th>std</th>\n",
              "      <td>13930.650776</td>\n",
              "      <td>47.821566</td>\n",
              "      <td>4.401396</td>\n",
              "      <td>4.567302</td>\n",
              "      <td>4.352018</td>\n",
              "      <td>4.257647</td>\n",
              "      <td>3.487155</td>\n",
              "      <td>3.811147</td>\n",
              "      <td>3.735438</td>\n",
              "      <td>3.313908</td>\n",
              "      <td>4.325777</td>\n",
              "      <td>4.194310</td>\n",
              "      <td>4.90844</td>\n",
              "      <td>4.940885</td>\n",
              "      <td>33.67652</td>\n",
              "      <td>2.806377</td>\n",
              "    </tr>\n",
              "    <tr>\n",
              "      <th>min</th>\n",
              "      <td>1500.000000</td>\n",
              "      <td>60.000000</td>\n",
              "      <td>1.000000</td>\n",
              "      <td>1.000000</td>\n",
              "      <td>1.000000</td>\n",
              "      <td>2.000000</td>\n",
              "      <td>3.000000</td>\n",
              "      <td>2.000000</td>\n",
              "      <td>1.000000</td>\n",
              "      <td>6.000000</td>\n",
              "      <td>1.000000</td>\n",
              "      <td>2.000000</td>\n",
              "      <td>2.00000</td>\n",
              "      <td>0.000000</td>\n",
              "      <td>65.00000</td>\n",
              "      <td>5.416667</td>\n",
              "    </tr>\n",
              "    <tr>\n",
              "      <th>25%</th>\n",
              "      <td>5000.000000</td>\n",
              "      <td>100.000000</td>\n",
              "      <td>2.000000</td>\n",
              "      <td>7.000000</td>\n",
              "      <td>7.000000</td>\n",
              "      <td>9.000000</td>\n",
              "      <td>9.000000</td>\n",
              "      <td>9.000000</td>\n",
              "      <td>9.000000</td>\n",
              "      <td>9.000000</td>\n",
              "      <td>8.000000</td>\n",
              "      <td>8.000000</td>\n",
              "      <td>8.00000</td>\n",
              "      <td>8.000000</td>\n",
              "      <td>106.00000</td>\n",
              "      <td>8.833333</td>\n",
              "    </tr>\n",
              "    <tr>\n",
              "      <th>50%</th>\n",
              "      <td>10000.000000</td>\n",
              "      <td>150.000000</td>\n",
              "      <td>6.000000</td>\n",
              "      <td>10.000000</td>\n",
              "      <td>10.000000</td>\n",
              "      <td>11.000000</td>\n",
              "      <td>11.000000</td>\n",
              "      <td>11.000000</td>\n",
              "      <td>10.000000</td>\n",
              "      <td>10.000000</td>\n",
              "      <td>10.000000</td>\n",
              "      <td>10.000000</td>\n",
              "      <td>10.00000</td>\n",
              "      <td>10.000000</td>\n",
              "      <td>119.00000</td>\n",
              "      <td>9.916667</td>\n",
              "    </tr>\n",
              "    <tr>\n",
              "      <th>75%</th>\n",
              "      <td>18000.000000</td>\n",
              "      <td>200.000000</td>\n",
              "      <td>10.000000</td>\n",
              "      <td>13.000000</td>\n",
              "      <td>11.000000</td>\n",
              "      <td>14.000000</td>\n",
              "      <td>12.000000</td>\n",
              "      <td>12.000000</td>\n",
              "      <td>11.000000</td>\n",
              "      <td>11.000000</td>\n",
              "      <td>13.000000</td>\n",
              "      <td>12.000000</td>\n",
              "      <td>12.00000</td>\n",
              "      <td>12.000000</td>\n",
              "      <td>135.00000</td>\n",
              "      <td>11.250000</td>\n",
              "    </tr>\n",
              "    <tr>\n",
              "      <th>max</th>\n",
              "      <td>86000.000000</td>\n",
              "      <td>350.000000</td>\n",
              "      <td>16.000000</td>\n",
              "      <td>30.000000</td>\n",
              "      <td>33.000000</td>\n",
              "      <td>35.000000</td>\n",
              "      <td>28.000000</td>\n",
              "      <td>31.000000</td>\n",
              "      <td>38.000000</td>\n",
              "      <td>32.000000</td>\n",
              "      <td>36.000000</td>\n",
              "      <td>34.000000</td>\n",
              "      <td>35.00000</td>\n",
              "      <td>35.000000</td>\n",
              "      <td>371.00000</td>\n",
              "      <td>30.916667</td>\n",
              "    </tr>\n",
              "  </tbody>\n",
              "</table>\n",
              "</div>"
            ],
            "text/plain": [
              "              Harga        Stok  ...  Total_Sales  Mean_Sales\n",
              "count    161.000000  161.000000  ...    161.00000  161.000000\n",
              "mean   14394.409938  152.608696  ...    122.42236   10.201863\n",
              "std    13930.650776   47.821566  ...     33.67652    2.806377\n",
              "min     1500.000000   60.000000  ...     65.00000    5.416667\n",
              "25%     5000.000000  100.000000  ...    106.00000    8.833333\n",
              "50%    10000.000000  150.000000  ...    119.00000    9.916667\n",
              "75%    18000.000000  200.000000  ...    135.00000   11.250000\n",
              "max    86000.000000  350.000000  ...    371.00000   30.916667\n",
              "\n",
              "[8 rows x 16 columns]"
            ]
          },
          "metadata": {
            "tags": []
          },
          "execution_count": 30
        }
      ]
    },
    {
      "cell_type": "code",
      "metadata": {
        "id": "oMVtDcjObm5w",
        "colab_type": "code",
        "colab": {
          "base_uri": "https://localhost:8080/",
          "height": 337
        },
        "outputId": "e2e49aaa-7ca7-4600-9a2c-32931335e527"
      },
      "source": [
        "data.isnull().sum()"
      ],
      "execution_count": 31,
      "outputs": [
        {
          "output_type": "execute_result",
          "data": {
            "text/plain": [
              "Nama           0\n",
              "Harga          0\n",
              "Stok           0\n",
              "Jan            0\n",
              "Feb            0\n",
              "Mar            0\n",
              "Aprl           0\n",
              "Mei            0\n",
              "Juni           0\n",
              "Juli           0\n",
              "Agst           0\n",
              "Sep            0\n",
              "Okt            0\n",
              "Nov            0\n",
              "Des            0\n",
              "Total_Sales    0\n",
              "Mean_Sales     0\n",
              "dtype: int64"
            ]
          },
          "metadata": {
            "tags": []
          },
          "execution_count": 31
        }
      ]
    },
    {
      "cell_type": "code",
      "metadata": {
        "id": "euJt3gyY4FM8",
        "colab_type": "code",
        "colab": {}
      },
      "source": [
        "data = data.drop(['Nama', 'Total_Sales', 'Mean_Sales'], axis=1)"
      ],
      "execution_count": 32,
      "outputs": []
    },
    {
      "cell_type": "code",
      "metadata": {
        "id": "0cxBllxE5qYH",
        "colab_type": "code",
        "colab": {
          "base_uri": "https://localhost:8080/",
          "height": 399
        },
        "outputId": "7a14387a-75c8-466e-c933-4a2c2c9f7b83"
      },
      "source": [
        "data"
      ],
      "execution_count": 33,
      "outputs": [
        {
          "output_type": "execute_result",
          "data": {
            "text/html": [
              "<div>\n",
              "<style scoped>\n",
              "    .dataframe tbody tr th:only-of-type {\n",
              "        vertical-align: middle;\n",
              "    }\n",
              "\n",
              "    .dataframe tbody tr th {\n",
              "        vertical-align: top;\n",
              "    }\n",
              "\n",
              "    .dataframe thead th {\n",
              "        text-align: right;\n",
              "    }\n",
              "</style>\n",
              "<table border=\"1\" class=\"dataframe\">\n",
              "  <thead>\n",
              "    <tr style=\"text-align: right;\">\n",
              "      <th></th>\n",
              "      <th>Harga</th>\n",
              "      <th>Stok</th>\n",
              "      <th>Jan</th>\n",
              "      <th>Feb</th>\n",
              "      <th>Mar</th>\n",
              "      <th>Aprl</th>\n",
              "      <th>Mei</th>\n",
              "      <th>Juni</th>\n",
              "      <th>Juli</th>\n",
              "      <th>Agst</th>\n",
              "      <th>Sep</th>\n",
              "      <th>Okt</th>\n",
              "      <th>Nov</th>\n",
              "      <th>Des</th>\n",
              "    </tr>\n",
              "  </thead>\n",
              "  <tbody>\n",
              "    <tr>\n",
              "      <th>45</th>\n",
              "      <td>12000</td>\n",
              "      <td>150</td>\n",
              "      <td>1</td>\n",
              "      <td>13</td>\n",
              "      <td>10</td>\n",
              "      <td>11</td>\n",
              "      <td>11</td>\n",
              "      <td>9</td>\n",
              "      <td>10</td>\n",
              "      <td>8</td>\n",
              "      <td>9</td>\n",
              "      <td>10</td>\n",
              "      <td>8</td>\n",
              "      <td>10</td>\n",
              "    </tr>\n",
              "    <tr>\n",
              "      <th>40</th>\n",
              "      <td>14000</td>\n",
              "      <td>100</td>\n",
              "      <td>10</td>\n",
              "      <td>15</td>\n",
              "      <td>15</td>\n",
              "      <td>18</td>\n",
              "      <td>17</td>\n",
              "      <td>10</td>\n",
              "      <td>7</td>\n",
              "      <td>9</td>\n",
              "      <td>11</td>\n",
              "      <td>12</td>\n",
              "      <td>8</td>\n",
              "      <td>9</td>\n",
              "    </tr>\n",
              "    <tr>\n",
              "      <th>117</th>\n",
              "      <td>14000</td>\n",
              "      <td>100</td>\n",
              "      <td>7</td>\n",
              "      <td>10</td>\n",
              "      <td>9</td>\n",
              "      <td>6</td>\n",
              "      <td>9</td>\n",
              "      <td>7</td>\n",
              "      <td>10</td>\n",
              "      <td>11</td>\n",
              "      <td>10</td>\n",
              "      <td>13</td>\n",
              "      <td>11</td>\n",
              "      <td>12</td>\n",
              "    </tr>\n",
              "    <tr>\n",
              "      <th>158</th>\n",
              "      <td>54000</td>\n",
              "      <td>80</td>\n",
              "      <td>8</td>\n",
              "      <td>10</td>\n",
              "      <td>11</td>\n",
              "      <td>13</td>\n",
              "      <td>15</td>\n",
              "      <td>15</td>\n",
              "      <td>16</td>\n",
              "      <td>17</td>\n",
              "      <td>15</td>\n",
              "      <td>15</td>\n",
              "      <td>16</td>\n",
              "      <td>15</td>\n",
              "    </tr>\n",
              "    <tr>\n",
              "      <th>96</th>\n",
              "      <td>7500</td>\n",
              "      <td>100</td>\n",
              "      <td>10</td>\n",
              "      <td>13</td>\n",
              "      <td>10</td>\n",
              "      <td>11</td>\n",
              "      <td>10</td>\n",
              "      <td>9</td>\n",
              "      <td>10</td>\n",
              "      <td>8</td>\n",
              "      <td>12</td>\n",
              "      <td>10</td>\n",
              "      <td>7</td>\n",
              "      <td>7</td>\n",
              "    </tr>\n",
              "    <tr>\n",
              "      <th>...</th>\n",
              "      <td>...</td>\n",
              "      <td>...</td>\n",
              "      <td>...</td>\n",
              "      <td>...</td>\n",
              "      <td>...</td>\n",
              "      <td>...</td>\n",
              "      <td>...</td>\n",
              "      <td>...</td>\n",
              "      <td>...</td>\n",
              "      <td>...</td>\n",
              "      <td>...</td>\n",
              "      <td>...</td>\n",
              "      <td>...</td>\n",
              "      <td>...</td>\n",
              "    </tr>\n",
              "    <tr>\n",
              "      <th>53</th>\n",
              "      <td>8000</td>\n",
              "      <td>100</td>\n",
              "      <td>1</td>\n",
              "      <td>15</td>\n",
              "      <td>11</td>\n",
              "      <td>14</td>\n",
              "      <td>12</td>\n",
              "      <td>11</td>\n",
              "      <td>10</td>\n",
              "      <td>9</td>\n",
              "      <td>8</td>\n",
              "      <td>8</td>\n",
              "      <td>10</td>\n",
              "      <td>9</td>\n",
              "    </tr>\n",
              "    <tr>\n",
              "      <th>43</th>\n",
              "      <td>55000</td>\n",
              "      <td>100</td>\n",
              "      <td>11</td>\n",
              "      <td>14</td>\n",
              "      <td>11</td>\n",
              "      <td>10</td>\n",
              "      <td>12</td>\n",
              "      <td>12</td>\n",
              "      <td>9</td>\n",
              "      <td>9</td>\n",
              "      <td>10</td>\n",
              "      <td>8</td>\n",
              "      <td>5</td>\n",
              "      <td>5</td>\n",
              "    </tr>\n",
              "    <tr>\n",
              "      <th>75</th>\n",
              "      <td>4500</td>\n",
              "      <td>150</td>\n",
              "      <td>2</td>\n",
              "      <td>3</td>\n",
              "      <td>4</td>\n",
              "      <td>5</td>\n",
              "      <td>5</td>\n",
              "      <td>3</td>\n",
              "      <td>6</td>\n",
              "      <td>10</td>\n",
              "      <td>10</td>\n",
              "      <td>11</td>\n",
              "      <td>10</td>\n",
              "      <td>11</td>\n",
              "    </tr>\n",
              "    <tr>\n",
              "      <th>72</th>\n",
              "      <td>1500</td>\n",
              "      <td>100</td>\n",
              "      <td>15</td>\n",
              "      <td>12</td>\n",
              "      <td>15</td>\n",
              "      <td>16</td>\n",
              "      <td>15</td>\n",
              "      <td>16</td>\n",
              "      <td>10</td>\n",
              "      <td>11</td>\n",
              "      <td>8</td>\n",
              "      <td>9</td>\n",
              "      <td>8</td>\n",
              "      <td>10</td>\n",
              "    </tr>\n",
              "    <tr>\n",
              "      <th>149</th>\n",
              "      <td>10000</td>\n",
              "      <td>150</td>\n",
              "      <td>3</td>\n",
              "      <td>2</td>\n",
              "      <td>5</td>\n",
              "      <td>9</td>\n",
              "      <td>9</td>\n",
              "      <td>11</td>\n",
              "      <td>10</td>\n",
              "      <td>10</td>\n",
              "      <td>11</td>\n",
              "      <td>12</td>\n",
              "      <td>18</td>\n",
              "      <td>15</td>\n",
              "    </tr>\n",
              "  </tbody>\n",
              "</table>\n",
              "<p>161 rows × 14 columns</p>\n",
              "</div>"
            ],
            "text/plain": [
              "     Harga  Stok  Jan  Feb  Mar  Aprl  ...  Juli  Agst  Sep  Okt  Nov  Des\n",
              "45   12000   150    1   13   10    11  ...    10     8    9   10    8   10\n",
              "40   14000   100   10   15   15    18  ...     7     9   11   12    8    9\n",
              "117  14000   100    7   10    9     6  ...    10    11   10   13   11   12\n",
              "158  54000    80    8   10   11    13  ...    16    17   15   15   16   15\n",
              "96    7500   100   10   13   10    11  ...    10     8   12   10    7    7\n",
              "..     ...   ...  ...  ...  ...   ...  ...   ...   ...  ...  ...  ...  ...\n",
              "53    8000   100    1   15   11    14  ...    10     9    8    8   10    9\n",
              "43   55000   100   11   14   11    10  ...     9     9   10    8    5    5\n",
              "75    4500   150    2    3    4     5  ...     6    10   10   11   10   11\n",
              "72    1500   100   15   12   15    16  ...    10    11    8    9    8   10\n",
              "149  10000   150    3    2    5     9  ...    10    10   11   12   18   15\n",
              "\n",
              "[161 rows x 14 columns]"
            ]
          },
          "metadata": {
            "tags": []
          },
          "execution_count": 33
        }
      ]
    },
    {
      "cell_type": "code",
      "metadata": {
        "id": "jNiag_mqGDa8",
        "colab_type": "code",
        "colab": {
          "base_uri": "https://localhost:8080/",
          "height": 248
        },
        "outputId": "db75cbbc-b3b5-459e-a75d-15b43e9b6e7f"
      },
      "source": [
        "# Standardize data\n",
        "scaler = StandardScaler() \n",
        "scaled_df = scaler.fit_transform(data) \n",
        "\n",
        "scaled_df"
      ],
      "execution_count": 34,
      "outputs": [
        {
          "output_type": "execute_result",
          "data": {
            "text/plain": [
              "array([[-0.17241699, -0.05472082, -1.26836626, ..., -0.09655614,\n",
              "        -0.54836202, -0.14753946],\n",
              "       [-0.02840072, -1.10353646,  0.7828198 , ...,  0.38176813,\n",
              "        -0.54836202, -0.35056384],\n",
              "       [-0.02840072, -1.10353646,  0.09909111, ...,  0.62093027,\n",
              "         0.06473718,  0.25850931],\n",
              "       ...,\n",
              "       [-0.71247797, -0.05472082, -1.0404567 , ...,  0.14260599,\n",
              "        -0.13962922,  0.05548492],\n",
              "       [-0.92850237, -1.10353646,  1.92236762, ..., -0.33571828,\n",
              "        -0.54836202, -0.14753946],\n",
              "       [-0.31643325, -0.05472082, -0.81254714, ...,  0.38176813,\n",
              "         1.49530198,  0.86758246]])"
            ]
          },
          "metadata": {
            "tags": []
          },
          "execution_count": 34
        }
      ]
    },
    {
      "cell_type": "code",
      "metadata": {
        "id": "Lra22f0nEVLO",
        "colab_type": "code",
        "colab": {}
      },
      "source": [
        "Mscaler = MinMaxScaler()\n",
        "minmax = Mscaler.fit_transform(data) "
      ],
      "execution_count": 35,
      "outputs": []
    },
    {
      "cell_type": "code",
      "metadata": {
        "id": "YV7bIqGKE_zz",
        "colab_type": "code",
        "colab": {
          "base_uri": "https://localhost:8080/",
          "height": 248
        },
        "outputId": "a543c662-c2f6-4836-def4-4aa738bdb210"
      },
      "source": [
        "# Normalizing the Data \n",
        "normalized_df = normalize(minmax) \n",
        "\n",
        "normalized_df"
      ],
      "execution_count": 36,
      "outputs": [
        {
          "output_type": "execute_result",
          "data": {
            "text/plain": [
              "array([[0.13159417, 0.3286613 , 0.        , ..., 0.26475493, 0.19254904,\n",
              "        0.30257707],\n",
              "       [0.11124596, 0.10372727, 0.45121361, ..., 0.23500709, 0.1367314 ,\n",
              "        0.19337726],\n",
              "       [0.15305755, 0.14271297, 0.41386762, ..., 0.35566749, 0.28218247,\n",
              "        0.35474367],\n",
              "       ...,\n",
              "       [0.05145265, 0.44976717, 0.09661665, ..., 0.40760149, 0.35133327,\n",
              "        0.45547849],\n",
              "       [0.        , 0.09368664, 0.63394625, ..., 0.14858115, 0.12349602,\n",
              "        0.19406518],\n",
              "       [0.09956111, 0.30716521, 0.13196728, ..., 0.30929831, 0.47988101,\n",
              "        0.42418053]])"
            ]
          },
          "metadata": {
            "tags": []
          },
          "execution_count": 36
        }
      ]
    },
    {
      "cell_type": "code",
      "metadata": {
        "id": "AaC1yaAB-VwY",
        "colab_type": "code",
        "colab": {
          "base_uri": "https://localhost:8080/",
          "height": 230
        },
        "outputId": "ab3d395f-ea83-4b23-d7d2-fc80d1428a3b"
      },
      "source": [
        "pca = PCA(n_components=2)\n",
        "pca.fit(normalized_df)\n",
        "X_pca = pca.transform(normalized_df)\n",
        "print(\"original shape:   \", normalized_df.shape)\n",
        "print(\"transformed shape:\", X_pca.shape)\n",
        "X_pca[:10]"
      ],
      "execution_count": 37,
      "outputs": [
        {
          "output_type": "stream",
          "text": [
            "original shape:    (161, 14)\n",
            "transformed shape: (161, 2)\n"
          ],
          "name": "stdout"
        },
        {
          "output_type": "execute_result",
          "data": {
            "text/plain": [
              "array([[-0.1900622 ,  0.30255775],\n",
              "       [ 0.2562626 ,  0.1261828 ],\n",
              "       [ 0.01186199, -0.15286752],\n",
              "       [-0.01288386, -0.07505324],\n",
              "       [ 0.28209647, -0.0310616 ],\n",
              "       [ 0.38470819, -0.03846438],\n",
              "       [ 0.34909204,  0.05238709],\n",
              "       [ 0.33839065, -0.07652019],\n",
              "       [ 0.41909936, -0.09963757],\n",
              "       [ 0.27144559,  0.01288526]])"
            ]
          },
          "metadata": {
            "tags": []
          },
          "execution_count": 37
        }
      ]
    },
    {
      "cell_type": "code",
      "metadata": {
        "id": "089eW8j0-g3X",
        "colab_type": "code",
        "colab": {
          "base_uri": "https://localhost:8080/",
          "height": 283
        },
        "outputId": "9ae6d98d-8667-47b5-d167-f90ce34e705b"
      },
      "source": [
        "plt.scatter(X_pca[:, 0], X_pca[:, 1])\n",
        "plt.xlabel('component 1')\n",
        "plt.ylabel('component 2')\n",
        "plt.colorbar();"
      ],
      "execution_count": 38,
      "outputs": [
        {
          "output_type": "display_data",
          "data": {
            "image/png": "[encoded data removed]",
            "text/plain": [
              "<Figure size 432x288 with 2 Axes>"
            ]
          },
          "metadata": {
            "tags": [],
            "needs_background": "light"
          }
        }
      ]
    },
    {
      "cell_type": "code",
      "metadata": {
        "id": "hVWBU0I-GNbq",
        "colab_type": "code",
        "colab": {
          "base_uri": "https://localhost:8080/",
          "height": 439
        },
        "outputId": "b526cd58-85f8-4832-d1d7-3a7ff5ac0c90"
      },
      "source": [
        "sse = {}\n",
        "for k in range(1, 10):\n",
        "    kmeans = KMeans(n_clusters=k, max_iter=1000).fit(X_pca)\n",
        "    sse[k] = kmeans.inertia_ # Inertia: Sum of distances of samples to their closest cluster center\n",
        "    print(kmeans.inertia_ )\n",
        "plt.figure()\n",
        "plt.plot(list(sse.keys()), list(sse.values()))\n",
        "plt.xlabel(\"Number of cluster\")\n",
        "plt.ylabel(\"SSE\")\n",
        "plt.show()"
      ],
      "execution_count": 39,
      "outputs": [
        {
          "output_type": "stream",
          "text": [
            "17.540649237468582\n",
            "7.424151624045995\n",
            "4.021103000471332\n",
            "2.500719240549823\n",
            "2.0546708918601695\n",
            "1.7533125243741494\n",
            "1.4880532812701586\n",
            "1.323166045499463\n",
            "1.1666979817776224\n"
          ],
          "name": "stdout"
        },
        {
          "output_type": "display_data",
          "data": {
            "image/png": "[encoded data removed]",
            "text/plain": [
              "<Figure size 432x288 with 1 Axes>"
            ]
          },
          "metadata": {
            "tags": [],
            "needs_background": "light"
          }
        }
      ]
    },
    {
      "cell_type": "code",
      "metadata": {
        "id": "IvFHCtizFym4",
        "colab_type": "code",
        "colab": {
          "base_uri": "https://localhost:8080/",
          "height": 279
        },
        "outputId": "19f47332-fe10-4e86-8345-8f88a096567d"
      },
      "source": [
        "from sklearn.metrics import silhouette_score\n",
        "\n",
        "silhouette_scores = [] \n",
        "\n",
        "for n_cluster in range(2, 8):\n",
        "    silhouette_scores.append( \n",
        "        silhouette_score(X_pca, KMeans(n_clusters = n_cluster).fit_predict(X_pca))) \n",
        "    \n",
        "# Plotting a bar graph to compare the results \n",
        "k = [2, 3, 4, 5, 6,7] \n",
        "plt.bar(k, silhouette_scores) \n",
        "plt.xlabel('Number of clusters', fontsize = 10) \n",
        "plt.ylabel('Silhouette Score', fontsize = 10) \n",
        "plt.show() "
      ],
      "execution_count": 40,
      "outputs": [
        {
          "output_type": "display_data",
          "data": {
            "image/png": "[encoded data removed]",
            "text/plain": [
              "<Figure size 432x288 with 1 Axes>"
            ]
          },
          "metadata": {
            "tags": [],
            "needs_background": "light"
          }
        }
      ]
    },
    {
      "cell_type": "code",
      "metadata": {
        "id": "4h-EedSUIpT3",
        "colab_type": "code",
        "colab": {
          "base_uri": "https://localhost:8080/",
          "height": 265
        },
        "outputId": "773e63ff-f424-46d8-ef6e-8bcc4c0bf247"
      },
      "source": [
        "kmeans = KMeans(n_clusters=4)\n",
        "pred_y = kmeans.fit_predict(X_pca)\n",
        "plt.scatter(X_pca[:,0], X_pca[:,1])\n",
        "plt.scatter(kmeans.cluster_centers_[:, 0], kmeans.cluster_centers_[:, 1], s=300, c='red')\n",
        "plt.show()"
      ],
      "execution_count": 41,
      "outputs": [
        {
          "output_type": "display_data",
          "data": {
            "image/png": "[encoded data removed]",
            "text/plain": [
              "<Figure size 432x288 with 1 Axes>"
            ]
          },
          "metadata": {
            "tags": [],
            "needs_background": "light"
          }
        }
      ]
    },
    {
      "cell_type": "code",
      "metadata": {
        "id": "5pD4mYhgHgvQ",
        "colab_type": "code",
        "colab": {
          "base_uri": "https://localhost:8080/",
          "height": 340
        },
        "outputId": "047b9668-a799-4fba-9003-76866dff3c63"
      },
      "source": [
        "data['Labels'] = kmeans.labels_\n",
        "\n",
        "data.head(10)"
      ],
      "execution_count": 43,
      "outputs": [
        {
          "output_type": "execute_result",
          "data": {
            "text/html": [
              "<div>\n",
              "<style scoped>\n",
              "    .dataframe tbody tr th:only-of-type {\n",
              "        vertical-align: middle;\n",
              "    }\n",
              "\n",
              "    .dataframe tbody tr th {\n",
              "        vertical-align: top;\n",
              "    }\n",
              "\n",
              "    .dataframe thead th {\n",
              "        text-align: right;\n",
              "    }\n",
              "</style>\n",
              "<table border=\"1\" class=\"dataframe\">\n",
              "  <thead>\n",
              "    <tr style=\"text-align: right;\">\n",
              "      <th></th>\n",
              "      <th>Harga</th>\n",
              "      <th>Stok</th>\n",
              "      <th>Jan</th>\n",
              "      <th>Feb</th>\n",
              "      <th>Mar</th>\n",
              "      <th>Aprl</th>\n",
              "      <th>Mei</th>\n",
              "      <th>Juni</th>\n",
              "      <th>Juli</th>\n",
              "      <th>Agst</th>\n",
              "      <th>Sep</th>\n",
              "      <th>Okt</th>\n",
              "      <th>Nov</th>\n",
              "      <th>Des</th>\n",
              "      <th>Labels</th>\n",
              "    </tr>\n",
              "  </thead>\n",
              "  <tbody>\n",
              "    <tr>\n",
              "      <th>45</th>\n",
              "      <td>12000</td>\n",
              "      <td>150</td>\n",
              "      <td>1</td>\n",
              "      <td>13</td>\n",
              "      <td>10</td>\n",
              "      <td>11</td>\n",
              "      <td>11</td>\n",
              "      <td>9</td>\n",
              "      <td>10</td>\n",
              "      <td>8</td>\n",
              "      <td>9</td>\n",
              "      <td>10</td>\n",
              "      <td>8</td>\n",
              "      <td>10</td>\n",
              "      <td>3</td>\n",
              "    </tr>\n",
              "    <tr>\n",
              "      <th>40</th>\n",
              "      <td>14000</td>\n",
              "      <td>100</td>\n",
              "      <td>10</td>\n",
              "      <td>15</td>\n",
              "      <td>15</td>\n",
              "      <td>18</td>\n",
              "      <td>17</td>\n",
              "      <td>10</td>\n",
              "      <td>7</td>\n",
              "      <td>9</td>\n",
              "      <td>11</td>\n",
              "      <td>12</td>\n",
              "      <td>8</td>\n",
              "      <td>9</td>\n",
              "      <td>1</td>\n",
              "    </tr>\n",
              "    <tr>\n",
              "      <th>117</th>\n",
              "      <td>14000</td>\n",
              "      <td>100</td>\n",
              "      <td>7</td>\n",
              "      <td>10</td>\n",
              "      <td>9</td>\n",
              "      <td>6</td>\n",
              "      <td>9</td>\n",
              "      <td>7</td>\n",
              "      <td>10</td>\n",
              "      <td>11</td>\n",
              "      <td>10</td>\n",
              "      <td>13</td>\n",
              "      <td>11</td>\n",
              "      <td>12</td>\n",
              "      <td>0</td>\n",
              "    </tr>\n",
              "    <tr>\n",
              "      <th>158</th>\n",
              "      <td>54000</td>\n",
              "      <td>80</td>\n",
              "      <td>8</td>\n",
              "      <td>10</td>\n",
              "      <td>11</td>\n",
              "      <td>13</td>\n",
              "      <td>15</td>\n",
              "      <td>15</td>\n",
              "      <td>16</td>\n",
              "      <td>17</td>\n",
              "      <td>15</td>\n",
              "      <td>15</td>\n",
              "      <td>16</td>\n",
              "      <td>15</td>\n",
              "      <td>0</td>\n",
              "    </tr>\n",
              "    <tr>\n",
              "      <th>96</th>\n",
              "      <td>7500</td>\n",
              "      <td>100</td>\n",
              "      <td>10</td>\n",
              "      <td>13</td>\n",
              "      <td>10</td>\n",
              "      <td>11</td>\n",
              "      <td>10</td>\n",
              "      <td>9</td>\n",
              "      <td>10</td>\n",
              "      <td>8</td>\n",
              "      <td>12</td>\n",
              "      <td>10</td>\n",
              "      <td>7</td>\n",
              "      <td>7</td>\n",
              "      <td>1</td>\n",
              "    </tr>\n",
              "    <tr>\n",
              "      <th>107</th>\n",
              "      <td>54000</td>\n",
              "      <td>150</td>\n",
              "      <td>10</td>\n",
              "      <td>10</td>\n",
              "      <td>11</td>\n",
              "      <td>9</td>\n",
              "      <td>10</td>\n",
              "      <td>8</td>\n",
              "      <td>10</td>\n",
              "      <td>7</td>\n",
              "      <td>4</td>\n",
              "      <td>5</td>\n",
              "      <td>5</td>\n",
              "      <td>5</td>\n",
              "      <td>1</td>\n",
              "    </tr>\n",
              "    <tr>\n",
              "      <th>128</th>\n",
              "      <td>2500</td>\n",
              "      <td>200</td>\n",
              "      <td>15</td>\n",
              "      <td>17</td>\n",
              "      <td>15</td>\n",
              "      <td>16</td>\n",
              "      <td>16</td>\n",
              "      <td>16</td>\n",
              "      <td>10</td>\n",
              "      <td>11</td>\n",
              "      <td>8</td>\n",
              "      <td>9</td>\n",
              "      <td>7</td>\n",
              "      <td>10</td>\n",
              "      <td>1</td>\n",
              "    </tr>\n",
              "    <tr>\n",
              "      <th>156</th>\n",
              "      <td>5500</td>\n",
              "      <td>200</td>\n",
              "      <td>12</td>\n",
              "      <td>10</td>\n",
              "      <td>9</td>\n",
              "      <td>11</td>\n",
              "      <td>10</td>\n",
              "      <td>10</td>\n",
              "      <td>9</td>\n",
              "      <td>8</td>\n",
              "      <td>5</td>\n",
              "      <td>8</td>\n",
              "      <td>8</td>\n",
              "      <td>6</td>\n",
              "      <td>1</td>\n",
              "    </tr>\n",
              "    <tr>\n",
              "      <th>36</th>\n",
              "      <td>5000</td>\n",
              "      <td>100</td>\n",
              "      <td>12</td>\n",
              "      <td>10</td>\n",
              "      <td>9</td>\n",
              "      <td>11</td>\n",
              "      <td>10</td>\n",
              "      <td>10</td>\n",
              "      <td>9</td>\n",
              "      <td>8</td>\n",
              "      <td>5</td>\n",
              "      <td>8</td>\n",
              "      <td>8</td>\n",
              "      <td>6</td>\n",
              "      <td>1</td>\n",
              "    </tr>\n",
              "    <tr>\n",
              "      <th>18</th>\n",
              "      <td>18000</td>\n",
              "      <td>150</td>\n",
              "      <td>10</td>\n",
              "      <td>12</td>\n",
              "      <td>9</td>\n",
              "      <td>10</td>\n",
              "      <td>13</td>\n",
              "      <td>12</td>\n",
              "      <td>9</td>\n",
              "      <td>11</td>\n",
              "      <td>10</td>\n",
              "      <td>8</td>\n",
              "      <td>5</td>\n",
              "      <td>8</td>\n",
              "      <td>1</td>\n",
              "    </tr>\n",
              "  </tbody>\n",
              "</table>\n",
              "</div>"
            ],
            "text/plain": [
              "     Harga  Stok  Jan  Feb  Mar  Aprl  ...  Agst  Sep  Okt  Nov  Des  Labels\n",
              "45   12000   150    1   13   10    11  ...     8    9   10    8   10       3\n",
              "40   14000   100   10   15   15    18  ...     9   11   12    8    9       1\n",
              "117  14000   100    7   10    9     6  ...    11   10   13   11   12       0\n",
              "158  54000    80    8   10   11    13  ...    17   15   15   16   15       0\n",
              "96    7500   100   10   13   10    11  ...     8   12   10    7    7       1\n",
              "107  54000   150   10   10   11     9  ...     7    4    5    5    5       1\n",
              "128   2500   200   15   17   15    16  ...    11    8    9    7   10       1\n",
              "156   5500   200   12   10    9    11  ...     8    5    8    8    6       1\n",
              "36    5000   100   12   10    9    11  ...     8    5    8    8    6       1\n",
              "18   18000   150   10   12    9    10  ...    11   10    8    5    8       1\n",
              "\n",
              "[10 rows x 15 columns]"
            ]
          },
          "metadata": {
            "tags": []
          },
          "execution_count": 43
        }
      ]
    },
    {
      "cell_type": "code",
      "metadata": {
        "id": "xke5aEiRYDaL",
        "colab_type": "code",
        "colab": {
          "base_uri": "https://localhost:8080/",
          "height": 159
        },
        "outputId": "b32674c6-740c-4d1e-c89c-52b302a44ad0"
      },
      "source": [
        "kmeans.labels_\n"
      ],
      "execution_count": 44,
      "outputs": [
        {
          "output_type": "execute_result",
          "data": {
            "text/plain": [
              "array([3, 1, 0, 0, 1, 1, 1, 1, 1, 1, 1, 2, 3, 1, 1, 2, 3, 1, 3, 1, 2, 2,\n",
              "       0, 2, 2, 2, 1, 1, 1, 0, 1, 0, 0, 0, 0, 1, 1, 1, 1, 2, 1, 1, 2, 2,\n",
              "       1, 3, 0, 1, 0, 1, 2, 3, 2, 1, 0, 0, 3, 0, 3, 2, 3, 1, 2, 0, 1, 2,\n",
              "       0, 0, 2, 3, 1, 0, 3, 0, 0, 3, 3, 1, 0, 1, 1, 1, 3, 0, 3, 1, 2, 0,\n",
              "       0, 2, 2, 2, 2, 2, 1, 1, 0, 1, 0, 0, 1, 0, 3, 3, 3, 1, 3, 2, 0, 2,\n",
              "       1, 1, 0, 2, 0, 3, 2, 0, 0, 1, 1, 1, 1, 1, 3, 2, 1, 1, 2, 1, 2, 3,\n",
              "       2, 0, 2, 0, 1, 0, 2, 1, 1, 1, 0, 1, 2, 0, 2, 2, 2, 0, 1, 3, 2, 3,\n",
              "       3, 3, 3, 1, 2, 1, 2], dtype=int32)"
            ]
          },
          "metadata": {
            "tags": []
          },
          "execution_count": 44
        }
      ]
    },
    {
      "cell_type": "code",
      "metadata": {
        "id": "jgpYHmvHYu83",
        "colab_type": "code",
        "colab": {
          "base_uri": "https://localhost:8080/",
          "height": 195
        },
        "outputId": "f30ebbc0-6a06-43cb-d4ff-6bc848805367"
      },
      "source": [
        "labels.astype(np.float)"
      ],
      "execution_count": 46,
      "outputs": [
        {
          "output_type": "execute_result",
          "data": {
            "text/plain": [
              "array([3., 1., 0., 0., 1., 1., 1., 1., 1., 1., 1., 2., 3., 1., 1., 2., 3.,\n",
              "       1., 3., 1., 2., 2., 0., 2., 2., 2., 1., 1., 1., 0., 1., 0., 0., 0.,\n",
              "       0., 1., 1., 1., 1., 2., 1., 1., 2., 2., 1., 3., 0., 1., 0., 1., 2.,\n",
              "       3., 2., 1., 0., 0., 3., 0., 3., 2., 3., 1., 2., 0., 1., 2., 0., 0.,\n",
              "       2., 3., 1., 0., 3., 0., 0., 3., 3., 1., 0., 1., 1., 1., 3., 0., 3.,\n",
              "       1., 2., 0., 0., 2., 2., 2., 2., 2., 1., 1., 0., 1., 0., 0., 1., 0.,\n",
              "       3., 3., 3., 1., 3., 2., 0., 2., 1., 1., 0., 2., 0., 3., 2., 0., 0.,\n",
              "       1., 1., 1., 1., 1., 3., 2., 1., 1., 2., 1., 2., 3., 2., 0., 2., 0.,\n",
              "       1., 0., 2., 1., 1., 1., 0., 1., 2., 0., 2., 2., 2., 0., 1., 3., 2.,\n",
              "       3., 3., 3., 3., 1., 2., 1., 2.])"
            ]
          },
          "metadata": {
            "tags": []
          },
          "execution_count": 46
        }
      ]
    },
    {
      "cell_type": "code",
      "metadata": {
        "id": "QOHNBBSLOtMH",
        "colab_type": "code",
        "colab": {
          "base_uri": "https://localhost:8080/",
          "height": 287
        },
        "outputId": "360d64c6-0091-46eb-9aeb-d7b8d26d70ad"
      },
      "source": [
        "labels = kmeans.labels_\n",
        "# print(kmeans.labels_)\n",
        "plt.scatter(X_pca[:, 0], X_pca[:, 1], c=labels.astype(np.float), alpha=0.5)\n",
        "plt.scatter(kmeans.cluster_centers_[:, 0], kmeans.cluster_centers_[:, 1], s=300, c='red')\n",
        "plt.xlabel('X1', fontsize=18)\n",
        "plt.ylabel('X2', fontsize=16)\n",
        "\n",
        "plt.show()"
      ],
      "execution_count": 45,
      "outputs": [
        {
          "output_type": "display_data",
          "data": {
            "image/png": "[encoded data removed]",
            "text/plain": [
              "<Figure size 432x288 with 1 Axes>"
            ]
          },
          "metadata": {
            "tags": [],
            "needs_background": "light"
          }
        }
      ]
    },
    {
      "cell_type": "markdown",
      "metadata": {
        "id": "qzKRVaxIiBPY",
        "colab_type": "text"
      },
      "source": [
        "## **PSO + KMEANS**"
      ]
    },
    {
      "cell_type": "code",
      "metadata": {
        "id": "rHwoDDW7O85n",
        "colab_type": "code",
        "colab": {}
      },
      "source": [
        ""
      ],
      "execution_count": null,
      "outputs": []
    }
  ]
}